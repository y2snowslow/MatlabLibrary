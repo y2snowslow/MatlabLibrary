{
  "nbformat": 4,
  "nbformat_minor": 0,
  "metadata": {
    "colab": {
      "provenance": []
    },
    "kernelspec": {
      "name": "python3",
      "display_name": "Python 3"
    },
    "language_info": {
      "name": "python"
    }
  },
  "cells": [
    {
      "cell_type": "code",
      "execution_count": 31,
      "metadata": {
        "colab": {
          "base_uri": "https://localhost:8080/"
        },
        "id": "Wv9p5DjTk5mJ",
        "outputId": "7fb727e5-9360-440b-d577-a2aab7091333"
      },
      "outputs": [
        {
          "output_type": "stream",
          "name": "stdout",
          "text": [
            "Results and regression equation saved to predicted_results.xlsx\n"
          ]
        }
      ],
      "source": [
        "import pandas as pd\n",
        "from sklearn.linear_model import LinearRegression\n",
        "from sklearn.preprocessing import PolynomialFeatures\n",
        "\n",
        "# 更新されたExcelファイルを読み込む\n",
        "updated_file_path = '231217_data.xlsx'\n",
        "\n",
        "# Excel ファイルを読み込む（列名の余分な空白を除去）\n",
        "df_updated = pd.read_excel(updated_file_path)\n",
        "df_updated.columns = df_updated.columns.str.strip()\n",
        "\n",
        "# 1-8行目のデータを用いて重回帰分析を行う\n",
        "df_train = df_updated.iloc[0:8]  # 1-8行目のデータ\n",
        "X_train = df_train[['X', 'Y', 'A', 'B']]  # 説明変数\n",
        "Y_train = df_train['Z']  # 目的変数\n",
        "\n",
        "# 2次の多項式特徴量を生成\n",
        "# https://helve-blog.com/posts/python/scikit-learn-polynomialfeatures/\n",
        "poly = PolynomialFeatures(degree=2, include_bias=False)\n",
        "X_poly_train = poly.fit_transform(X_train)\n",
        "\n",
        "# 重回帰モデルの作成とフィッティング（多項式特徴量を使用）\n",
        "poly_reg_model = LinearRegression()\n",
        "poly_reg_model.fit(X_poly_train, Y_train)\n",
        "\n",
        "# 重回帰モデルの係数と切片を取得\n",
        "poly_coefficients = poly_reg_model.coef_\n",
        "poly_intercept = poly_reg_model.intercept_\n",
        "\n",
        "# 生成された多項式特徴量の名称を取得\n",
        "feature_names = poly.get_feature_names_out(['X', 'Y', 'A', 'B'])\n",
        "\n",
        "# 係数と特徴量の名称を組み合わせて関係式を作成\n",
        "relation_equation = \"Predicted Z = \" + str(poly_intercept)\n",
        "for coef, name in zip(poly_coefficients, feature_names):\n",
        "    relation_equation += f\" + ({coef}) * {name}\"\n",
        "\n",
        "# 全てのデータに対して予測を行う\n",
        "X_poly = poly.transform(df_updated[['X', 'Y', 'A', 'B']])\n",
        "predicted_Z_poly = poly_reg_model.predict(X_poly)\n",
        "\n",
        "# 予測値と実際の値の誤差を計算\n",
        "errors = abs(predicted_Z_poly - df_updated['Z'])\n",
        "\n",
        "# 新しいデータフレームに結果を格納\n",
        "df_results = df_updated.copy()\n",
        "df_results['Predicted Z'] = predicted_Z_poly\n",
        "df_results['Error'] = errors\n",
        "\n",
        "# 結果と回帰式をExcelファイルとして保存\n",
        "output_file_path = 'predicted_results.xlsx'\n",
        "with pd.ExcelWriter(output_file_path) as writer:\n",
        "    df_results.to_excel(writer, sheet_name='Sheet1', index=False)\n",
        "    pd.DataFrame({'Regression Equation': [relation_equation]}).to_excel(writer, sheet_name='Sheet2', index=False)\n",
        "\n",
        "print(f'Results and regression equation saved to {output_file_path}')\n"
      ]
    }
  ]
}